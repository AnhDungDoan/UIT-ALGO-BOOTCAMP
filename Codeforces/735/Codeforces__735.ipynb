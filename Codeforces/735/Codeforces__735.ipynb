{
  "nbformat": 4,
  "nbformat_minor": 0,
  "metadata": {
    "colab": {
      "name": "Codeforces_#735.ipynb",
      "provenance": [],
      "collapsed_sections": []
    },
    "kernelspec": {
      "name": "python3",
      "display_name": "Python 3"
    },
    "language_info": {
      "name": "python"
    }
  },
  "cells": [
    {
      "cell_type": "markdown",
      "metadata": {
        "id": "3gqIrRJe1MFG"
      },
      "source": [
        "**Bài D:**\n",
        "\n",
        "**Đề bài:**\n",
        "\n",
        "You are given an integer n. Find any string s of length n consisting only of English lowercase letters such that each non-empty substring of s occurs in s an odd number of times. If there are multiple such strings, output any. It can be shown that such string always exists under the given constraints.\n",
        "\n",
        "A string a is a substring of a string b if a can be obtained from b by deletion of several (possibly, zero or all) characters from the beginning and several (possibly, zero or all) characters from the end.\n",
        "\n",
        "**Input**\n",
        "\n",
        "The first line contains a single integer t (1≤t≤500) — the number of test cases.\n",
        "\n",
        "The first line of each test case contains a single integer n (1≤n≤105).\n",
        "\n",
        "It is guaranteed that the sum of n over all test cases doesn't exceed 3⋅105.\n",
        "\n",
        "**Output**\n",
        "\n",
        "For each test case, print a single line containing the string s. If there are multiple such strings, output any. It can be shown that such string always exists under the given constraints.\n",
        "\n",
        "*Tóm tắt:*\n",
        "\n",
        "Cho số nguyên n, tìm 1 dãy gồm các kí tự in thường sao cho mỗi chuỗi con trong dãy đều có số lần xuất hiện là lẻ.\n",
        "\n",
        "Input:\n",
        "```\n",
        "4\n",
        "3\n",
        "5\n",
        "9\n",
        "19\n",
        "```\n",
        "\n",
        "Output:\n",
        "```\n",
        "abc\n",
        "diane\n",
        "bbcaabbba\n",
        "youarethecutestuwuu\n",
        "\n",
        "```"
      ]
    },
    {
      "cell_type": "markdown",
      "metadata": {
        "id": "5Ed0zm5y3jOZ"
      },
      "source": [
        "**Đánh giá**\n",
        "\n",
        "Nếu n là số chẵn:\n",
        "\n",
        "Chọn liên tiếp 1 dãy aaa..a gồm $n/2 - 1$ kí tự, sau đó chèn 1 chữ cái bất kì và tiếp tục  1 dãy aaa..a gồm $n/2$ kí tự. Dễ thấy số kí tự 'a' là lẻ, 'aa' lẻ, ....\n",
        "\n",
        "Nếu n là số lẻ:\n",
        "\n",
        "Cách tiếp cận như trên, nhưng thay vì đặt 1 chữ cái thì mình đặt 2 chữ cái bất kì.\n",
        "\n",
        "**Lưu ý:**\n",
        "\n",
        "Xét riêng trường hợp n = 1.\n"
      ]
    },
    {
      "cell_type": "code",
      "metadata": {
        "id": "xxZNUTB41CGT"
      },
      "source": [
        "/*\n",
        "\tauthor: gnudnaod\n",
        "\tcreate: ..............\n",
        "*/\n",
        "\n",
        "#include <bits/stdc++.h>\n",
        "#define F(i,a,b) for (int i = a; i <= b; i++)\n",
        "#define _F(i,a,b) for (int i = a; i >= b; i--)\n",
        "#define ll long long\n",
        "#define pb push_back\n",
        "\n",
        "using namespace std;\n",
        "\n",
        "const int maxn = 100;\n",
        "\n",
        "int n;\n",
        "\n",
        "void solve()\n",
        "{\n",
        "    cin >> n;\n",
        "    if (n == 1)\n",
        "    {\n",
        "        cout << \"a\";\n",
        "    }\n",
        "    else\n",
        "    if (n%2 == 0)\n",
        "    {\n",
        "        F(i,1,n/2 - 1) cout << \"a\";\n",
        "        cout << \"c\";\n",
        "        F(i,1,n/2) cout << \"a\";\n",
        "    }\n",
        "    else\n",
        "    {\n",
        "        n--;\n",
        "        F(i,1,n/2 - 1) cout << \"a\";\n",
        "        cout << \"cd\";\n",
        "        F(i,1,n/2) cout << \"a\";\n",
        "    }\n",
        "    cout << '\\n';\n",
        "}\n",
        "\n",
        "int main()\n",
        "{\n",
        "    int t;\n",
        "    cin >> t;\n",
        "    while (t--)\n",
        "    {\n",
        "        solve();\n",
        "    }\n",
        "    return 0;\n",
        "}"
      ],
      "execution_count": null,
      "outputs": []
    }
  ]
}